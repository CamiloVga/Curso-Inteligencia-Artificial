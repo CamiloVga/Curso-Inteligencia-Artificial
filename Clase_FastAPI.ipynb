{
  "nbformat": 4,
  "nbformat_minor": 0,
  "metadata": {
    "colab": {
      "provenance": [],
      "gpuType": "T4",
      "authorship_tag": "ABX9TyPD7j7GbufcUWfYmMJqrfX3",
      "include_colab_link": true
    },
    "kernelspec": {
      "name": "python3",
      "display_name": "Python 3"
    },
    "language_info": {
      "name": "python"
    },
    "accelerator": "GPU"
  },
  "cells": [
    {
      "cell_type": "markdown",
      "metadata": {
        "id": "view-in-github",
        "colab_type": "text"
      },
      "source": [
        "<a href=\"https://colab.research.google.com/github/CamiloVga/Curso-Inteligencia-Artificial/blob/main/Clase_FastAPI.ipynb\" target=\"_parent\"><img src=\"https://colab.research.google.com/assets/colab-badge.svg\" alt=\"Open In Colab\"/></a>"
      ]
    },
    {
      "cell_type": "markdown",
      "source": [
        "# Clase Fast API\n",
        "\n",
        "FastAPI, creado por el colombiano Sebastián Ramírez, revolucionó el desarrollo web en Python al ofrecer rendimiento comparable a Node.js y Go. Su disrupción radica en combinar velocidad extrema con validación automática de datos, documentación autogenerada y tipado estático. Empresas como Microsoft, Netflix y Uber lo adoptaron por su capacidad de manejar microservicios a escala. Su uso destaca en APIs de machine learning, procesamiento en tiempo real y sistemas distribuidos, gracias a su soporte nativo para operaciones asíncronas."
      ],
      "metadata": {
        "id": "g8lBOOPlCB1f"
      }
    },
    {
      "cell_type": "code",
      "execution_count": 1,
      "metadata": {
        "id": "g0j-Iic-Br8E"
      },
      "outputs": [],
      "source": [
        "#Instalaciones\n",
        "!pip install fastapi textblob gradio > /dev/null 2>&1\n"
      ]
    },
    {
      "cell_type": "code",
      "source": [
        "#Importaciones\n",
        "\n",
        "# Fast API y modelos\n",
        "from fastapi import FastAPI\n",
        "from pydantic import BaseModel\n",
        "\n",
        "# Procesamiento de texto\n",
        "from textblob import TextBlob\n",
        "\n",
        "# Servidor\n",
        "import uvicorn\n",
        "import nest_asyncio\n",
        "nest_asyncio.apply()\n",
        "\n",
        "# Para la interfaz (solo si usas Gradio)\n",
        "import gradio as gr\n"
      ],
      "metadata": {
        "id": "Nd81o5fuC_0N"
      },
      "execution_count": 2,
      "outputs": []
    },
    {
      "cell_type": "code",
      "source": [
        "#Configuración Fast API\n",
        "\n",
        "class TextInput(BaseModel):\n",
        "    text: str\n",
        "\n",
        "app = FastAPI(title=\"API de Análisis de Sentimiento\")\n",
        "\n",
        "@app.post(\"/analyze\")\n",
        "async def analyze_sentiment(text_input: TextInput):\n",
        "    analysis = TextBlob(text_input.text)\n",
        "    sentiment = \"positivo\" if analysis.sentiment.polarity > 0 else \"negativo\" if analysis.sentiment.polarity < 0 else \"neutral\"\n",
        "    return {\n",
        "        \"texto\": text_input.text,\n",
        "        \"sentimiento\": sentiment,\n",
        "        \"polaridad\": analysis.sentiment.polarity,\n",
        "        \"subjetividad\": analysis.sentiment.subjectivity\n",
        "    }\n",
        "\n",
        "if __name__ == \"__main__\":\n",
        "    uvicorn.run(app, host=\"0.0.0.0\", port=8000, loop=\"none\")"
      ],
      "metadata": {
        "colab": {
          "base_uri": "https://localhost:8080/"
        },
        "id": "ORkALSdTCNHr",
        "outputId": "d95851a4-637e-4007-e363-7a8c2a1a3dfc"
      },
      "execution_count": 3,
      "outputs": [
        {
          "output_type": "stream",
          "name": "stderr",
          "text": [
            "INFO:     Started server process [209]\n",
            "INFO:     Waiting for application startup.\n",
            "INFO:     Application startup complete.\n",
            "INFO:     Uvicorn running on http://0.0.0.0:8000 (Press CTRL+C to quit)\n",
            "INFO:     Shutting down\n",
            "INFO:     Waiting for application shutdown.\n",
            "INFO:     Application shutdown complete.\n",
            "INFO:     Finished server process [209]\n"
          ]
        }
      ]
    },
    {
      "cell_type": "markdown",
      "source": [
        "# FastAPI en los despliegues\n",
        "\n",
        "FastAPI destaca en despliegues modernos por su excelente integración con contenedores Docker, permitiendo empaquetar la API y sus dependencias en imágenes ligeras y portátiles. Al escalar con Kubernetes, aprovecha características como el manejo asíncrono nativo y alto rendimiento, ideal para microservicios distribuidos. Esta combinación facilita el escalado horizontal, balanceo de carga, despliegues automáticos y alta disponibilidad. Empresas como Microsoft y Uber utilizan esta arquitectura para manejar millones de peticiones en producción."
      ],
      "metadata": {
        "id": "Mr4-bszJFJG3"
      }
    },
    {
      "cell_type": "code",
      "source": [
        "def analyze_text(text):\n",
        "    analysis = TextBlob(text)\n",
        "    sentiment = \"positivo\" if analysis.sentiment.polarity > 0 else \"negativo\" if analysis.sentiment.polarity < 0 else \"neutral\"\n",
        "\n",
        "    return f\"Sentimiento: {sentiment}\\nPolaridad: {analysis.sentiment.polarity:.2f}\\nSubjetividad: {analysis.sentiment.subjectivity:.2f}\"\n",
        "\n",
        "interface = gr.Interface(\n",
        "    fn=analyze_text,\n",
        "    inputs=\"text\",\n",
        "    outputs=\"text\",\n",
        "    title=\"Analizador de Sentimientos\",\n",
        "    description=\"Ingresa un texto para analizar su sentimiento\"\n",
        ")\n",
        "\n",
        "# Ejecutar la aplicación\n",
        "if __name__ == \"__main__\":\n",
        "    interface.launch(share=True)\n",
        "    uvicorn.run(app, host=\"0.0.0.0\", port=8000)"
      ],
      "metadata": {
        "colab": {
          "base_uri": "https://localhost:8080/",
          "height": 1000
        },
        "id": "mznqMfx6CPJj",
        "outputId": "4feea6d2-1190-45c9-bbf2-332a5481df7a"
      },
      "execution_count": 4,
      "outputs": [
        {
          "output_type": "stream",
          "name": "stderr",
          "text": [
            "ERROR:asyncio:Task exception was never retrieved\n",
            "future: <Task finished name='Task-1' coro=<Server.serve() done, defined at /usr/local/lib/python3.10/dist-packages/uvicorn/server.py:67> exception=KeyboardInterrupt()>\n",
            "Traceback (most recent call last):\n",
            "  File \"/usr/local/lib/python3.10/dist-packages/uvicorn/main.py\", line 579, in run\n",
            "    server.run()\n",
            "  File \"/usr/local/lib/python3.10/dist-packages/uvicorn/server.py\", line 65, in run\n",
            "    return asyncio.run(self.serve(sockets=sockets))\n",
            "  File \"/usr/local/lib/python3.10/dist-packages/nest_asyncio.py\", line 30, in run\n",
            "    return loop.run_until_complete(task)\n",
            "  File \"/usr/local/lib/python3.10/dist-packages/nest_asyncio.py\", line 92, in run_until_complete\n",
            "    self._run_once()\n",
            "  File \"/usr/local/lib/python3.10/dist-packages/nest_asyncio.py\", line 133, in _run_once\n",
            "    handle._run()\n",
            "  File \"/usr/lib/python3.10/asyncio/events.py\", line 80, in _run\n",
            "    self._context.run(self._callback, *self._args)\n",
            "  File \"/usr/lib/python3.10/asyncio/tasks.py\", line 315, in __wakeup\n",
            "    self.__step()\n",
            "  File \"/usr/lib/python3.10/asyncio/tasks.py\", line 232, in __step\n",
            "    result = coro.send(None)\n",
            "  File \"/usr/local/lib/python3.10/dist-packages/uvicorn/server.py\", line 68, in serve\n",
            "    with self.capture_signals():\n",
            "  File \"/usr/lib/python3.10/contextlib.py\", line 142, in __exit__\n",
            "    next(self.gen)\n",
            "  File \"/usr/local/lib/python3.10/dist-packages/uvicorn/server.py\", line 332, in capture_signals\n",
            "    signal.raise_signal(captured_signal)\n",
            "KeyboardInterrupt\n"
          ]
        },
        {
          "output_type": "stream",
          "name": "stdout",
          "text": [
            "Colab notebook detected. To show errors in colab notebook, set debug=True in launch()\n",
            "* Running on public URL: https://032be27dfca68d5bcc.gradio.live\n",
            "\n",
            "This share link expires in 72 hours. For free permanent hosting and GPU upgrades, run `gradio deploy` from the terminal in the working directory to deploy to Hugging Face Spaces (https://huggingface.co/spaces)\n"
          ]
        },
        {
          "output_type": "display_data",
          "data": {
            "text/plain": [
              "<IPython.core.display.HTML object>"
            ],
            "text/html": [
              "<div><iframe src=\"https://032be27dfca68d5bcc.gradio.live\" width=\"100%\" height=\"500\" allow=\"autoplay; camera; microphone; clipboard-read; clipboard-write;\" frameborder=\"0\" allowfullscreen></iframe></div>"
            ]
          },
          "metadata": {}
        },
        {
          "output_type": "stream",
          "name": "stderr",
          "text": [
            "INFO:     Started server process [209]\n",
            "INFO:     Waiting for application startup.\n",
            "INFO:     Application startup complete.\n",
            "INFO:     Uvicorn running on http://0.0.0.0:8000 (Press CTRL+C to quit)\n"
          ]
        },
        {
          "output_type": "stream",
          "name": "stdout",
          "text": [
            "INFO:     172.31.51.236:0 - \"GET / HTTP/1.1\" 200 OK\n",
            "INFO:     172.31.51.236:0 - \"GET /theme.css?v=76ee63afdb6c2791ddf9b92428cb796885031b4a4f1259df434def0a7c3f9d63 HTTP/1.1\" 200 OK\n",
            "INFO:     172.31.51.236:0 - \"POST /gradio_api/queue/join HTTP/1.1\" 200 OK\n",
            "INFO:     172.31.51.236:0 - \"GET /static/fonts/IBMPlexMono/IBMPlexMono-Regular.woff2 HTTP/1.1\" 200 OK\n",
            "INFO:     172.31.51.236:0 - \"GET /gradio_api/queue/data?session_hash=h8g5lbhqglq HTTP/1.1\" 200 OK\n"
          ]
        },
        {
          "output_type": "stream",
          "name": "stderr",
          "text": [
            "INFO:     Shutting down\n",
            "INFO:     Waiting for application shutdown.\n",
            "INFO:     Application shutdown complete.\n",
            "INFO:     Finished server process [209]\n"
          ]
        }
      ]
    }
  ]
}